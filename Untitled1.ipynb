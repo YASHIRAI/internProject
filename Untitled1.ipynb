{
 "cells": [
  {
   "cell_type": "code",
   "execution_count": 1,
   "metadata": {},
   "outputs": [
    {
     "ename": "FileNotFoundError",
     "evalue": "[Errno 2] No such file or directory: 'fileeg.wav'",
     "output_type": "error",
     "traceback": [
      "\u001b[1;31m---------------------------------------------------------------------------\u001b[0m",
      "\u001b[1;31mFileNotFoundError\u001b[0m                         Traceback (most recent call last)",
      "\u001b[1;32m<ipython-input-1-3c92f7f4f6b5>\u001b[0m in \u001b[0;36m<module>\u001b[1;34m\u001b[0m\n\u001b[0;32m      2\u001b[0m \u001b[1;32mimport\u001b[0m \u001b[0mscipy\u001b[0m\u001b[1;33m.\u001b[0m\u001b[0mio\u001b[0m\u001b[1;33m.\u001b[0m\u001b[0mwavfile\u001b[0m \u001b[1;32mas\u001b[0m \u001b[0mwav\u001b[0m\u001b[1;33m\u001b[0m\u001b[1;33m\u001b[0m\u001b[0m\n\u001b[0;32m      3\u001b[0m \u001b[1;33m\u001b[0m\u001b[0m\n\u001b[1;32m----> 4\u001b[1;33m \u001b[0mfs\u001b[0m\u001b[1;33m,\u001b[0m \u001b[0maudio\u001b[0m \u001b[1;33m=\u001b[0m \u001b[0mwav\u001b[0m\u001b[1;33m.\u001b[0m\u001b[0mread\u001b[0m\u001b[1;33m(\u001b[0m\u001b[1;34m'fileeg.wav'\u001b[0m\u001b[1;33m)\u001b[0m\u001b[1;33m\u001b[0m\u001b[1;33m\u001b[0m\u001b[0m\n\u001b[0m\u001b[0;32m      5\u001b[0m \u001b[0mspecgram\u001b[0m \u001b[1;33m=\u001b[0m \u001b[0mstft\u001b[0m\u001b[1;33m.\u001b[0m\u001b[0mspectrogram\u001b[0m\u001b[1;33m(\u001b[0m\u001b[0maudio\u001b[0m\u001b[1;33m,\u001b[0m \u001b[0mtransform\u001b[0m\u001b[1;33m=\u001b[0m\u001b[1;33m[\u001b[0m\u001b[0mscipy\u001b[0m\u001b[1;33m.\u001b[0m\u001b[0mfftpack\u001b[0m\u001b[1;33m.\u001b[0m\u001b[0mfft\u001b[0m\u001b[1;33m,\u001b[0m \u001b[0mnumpy\u001b[0m\u001b[1;33m.\u001b[0m\u001b[0mfft\u001b[0m\u001b[1;33m.\u001b[0m\u001b[0mfft\u001b[0m\u001b[1;33m]\u001b[0m\u001b[1;33m)\u001b[0m\u001b[1;33m\u001b[0m\u001b[1;33m\u001b[0m\u001b[0m\n\u001b[0;32m      6\u001b[0m \u001b[0moutput\u001b[0m \u001b[1;33m=\u001b[0m \u001b[0mstft\u001b[0m\u001b[1;33m.\u001b[0m\u001b[0mispectrogram\u001b[0m\u001b[1;33m(\u001b[0m\u001b[0mspecgram\u001b[0m\u001b[1;33m,\u001b[0m \u001b[0mtransform\u001b[0m\u001b[1;33m=\u001b[0m\u001b[1;33m[\u001b[0m\u001b[0mscipy\u001b[0m\u001b[1;33m.\u001b[0m\u001b[0mfftpack\u001b[0m\u001b[1;33m.\u001b[0m\u001b[0mifft\u001b[0m\u001b[1;33m,\u001b[0m \u001b[0mnumpy\u001b[0m\u001b[1;33m.\u001b[0m\u001b[0mfft\u001b[0m\u001b[1;33m.\u001b[0m\u001b[0mifft\u001b[0m\u001b[1;33m]\u001b[0m\u001b[1;33m)\u001b[0m\u001b[1;33m\u001b[0m\u001b[1;33m\u001b[0m\u001b[0m\n",
      "\u001b[1;32m~\\Miniconda3\\lib\\site-packages\\scipy\\io\\wavfile.py\u001b[0m in \u001b[0;36mread\u001b[1;34m(filename, mmap)\u001b[0m\n\u001b[0;32m    262\u001b[0m         \u001b[0mmmap\u001b[0m \u001b[1;33m=\u001b[0m \u001b[1;32mFalse\u001b[0m\u001b[1;33m\u001b[0m\u001b[1;33m\u001b[0m\u001b[0m\n\u001b[0;32m    263\u001b[0m     \u001b[1;32melse\u001b[0m\u001b[1;33m:\u001b[0m\u001b[1;33m\u001b[0m\u001b[1;33m\u001b[0m\u001b[0m\n\u001b[1;32m--> 264\u001b[1;33m         \u001b[0mfid\u001b[0m \u001b[1;33m=\u001b[0m \u001b[0mopen\u001b[0m\u001b[1;33m(\u001b[0m\u001b[0mfilename\u001b[0m\u001b[1;33m,\u001b[0m \u001b[1;34m'rb'\u001b[0m\u001b[1;33m)\u001b[0m\u001b[1;33m\u001b[0m\u001b[1;33m\u001b[0m\u001b[0m\n\u001b[0m\u001b[0;32m    265\u001b[0m \u001b[1;33m\u001b[0m\u001b[0m\n\u001b[0;32m    266\u001b[0m     \u001b[1;32mtry\u001b[0m\u001b[1;33m:\u001b[0m\u001b[1;33m\u001b[0m\u001b[1;33m\u001b[0m\u001b[0m\n",
      "\u001b[1;31mFileNotFoundError\u001b[0m: [Errno 2] No such file or directory: 'fileeg.wav'"
     ]
    }
   ],
   "source": [
    "import stft\n",
    "import scipy.io.wavfile as wav\n",
    "\n",
    "fs, audio = wav.read('fileeg.wav')\n",
    "specgram = stft.spectrogram(audio, transform=[scipy.fftpack.fft, numpy.fft.fft])\n",
    "output = stft.ispectrogram(specgram, transform=[scipy.fftpack.ifft, numpy.fft.ifft])\n",
    "wav.write('output.wav', fs, output)"
   ]
  },
  {
   "cell_type": "code",
   "execution_count": 4,
   "metadata": {},
   "outputs": [
    {
     "name": "stderr",
     "output_type": "stream",
     "text": [
      "C:\\Users\\user\\Miniconda3\\lib\\site-packages\\stft\\utils.py:53: FutureWarning: Using a non-tuple sequence for multidimensional indexing is deprecated; use `arr[tuple(seq)]` instead of `arr[seq]`. In the future this will be interpreted as an array index, `arr[np.array(seq)]`, which will result either in an error or a different result.\n",
      "  return data[slicetuple]\n",
      "C:\\Users\\user\\Miniconda3\\lib\\site-packages\\stft\\utils.py:25: FutureWarning: Using a non-tuple sequence for multidimensional indexing is deprecated; use `arr[tuple(seq)]` instead of `arr[seq]`. In the future this will be interpreted as an array index, `arr[np.array(seq)]`, which will result either in an error or a different result.\n",
      "  return data[slicetuple]\n"
     ]
    }
   ],
   "source": [
    "import stft\n",
    "import scipy\n",
    "import numpy\n",
    "import scipy.io.wavfile as wav\n",
    "\n",
    "fs, audio = wav.read('test.wav')\n",
    "specgram = stft.spectrogram(audio, transform=[scipy.fftpack.fft, numpy.fft.fft])\n",
    "output = stft.ispectrogram(specgram, transform=[scipy.fftpack.ifft, numpy.fft.ifft])\n",
    "wav.write('output.wav', fs, output)"
   ]
  },
  {
   "cell_type": "code",
   "execution_count": 10,
   "metadata": {},
   "outputs": [
    {
     "name": "stdout",
     "output_type": "stream",
     "text": [
      "[[[-6.94835935e+00+0.00000000e+00j -8.90731489e+00+0.00000000e+00j]\n",
      "  [-1.67319337e+01+0.00000000e+00j -1.60250155e+01+0.00000000e+00j]\n",
      "  [-2.45408278e+01+0.00000000e+00j -1.99902587e+01+0.00000000e+00j]\n",
      "  ...\n",
      "  [ 3.05760773e+05-0.00000000e+00j  2.35939857e+05+0.00000000e+00j]\n",
      "  [ 3.04180663e+04+0.00000000e+00j  1.55033658e+04-0.00000000e+00j]\n",
      "  [ 7.32498540e+00-0.00000000e+00j -5.83514195e+00+0.00000000e+00j]]\n",
      "\n",
      " [[ 1.88301939e+00-4.04365340e+00j  3.44707788e+00-6.10799432e+00j]\n",
      "  [ 7.92290668e+00+1.47388040e-01j  6.66781758e+00+9.14629574e-01j]\n",
      "  [-6.98987880e-01-2.38472470e+00j  3.35384427e+00-9.40000501e+00j]\n",
      "  ...\n",
      "  [-6.67258170e+05+3.48549001e+04j -4.73706398e+05-2.22702146e+05j]\n",
      "  [ 9.21992499e+04+4.58083421e+04j  7.41899647e+04+4.18075035e+04j]\n",
      "  [-2.00525317e+01-1.63939358e+01j  7.11630533e+00+9.51709825e+00j]]\n",
      "\n",
      " [[-5.76274506e-01+3.97661907e-01j  1.19637874e+00+3.06755114e+00j]\n",
      "  [-1.31664501e+00-1.25101047e+00j  1.42835849e-01+2.59922527e+00j]\n",
      "  [-8.01497848e+00-1.54670686e+01j  7.18348230e+00+4.09557918e+00j]\n",
      "  ...\n",
      "  [ 3.90086983e+04+2.97661683e+05j -3.88355318e+05+6.77355255e+05j]\n",
      "  [ 1.82706900e+05-4.15944674e+04j  1.51330629e+05-4.23071784e+04j]\n",
      "  [-3.80357668e+01+2.72490315e+01j  1.41603671e+01-6.52643889e+00j]]\n",
      "\n",
      " ...\n",
      "\n",
      " [[ 1.66064373e+01+1.17754669e+01j  3.58956448e+01+3.93124603e+01j]\n",
      "  [-4.33354374e+01-2.90369739e+01j -2.09181903e+01+3.68652137e+00j]\n",
      "  [-6.75754942e+01+6.59556732e+00j -1.75414350e+02+3.60336827e+01j]\n",
      "  ...\n",
      "  [ 7.81589822e+00+7.01369962e+00j -7.85159813e+00-1.97978599e+01j]\n",
      "  [ 4.00284921e+01-6.43535657e+01j -2.07170644e+01-4.12507544e+01j]\n",
      "  [ 2.87012649e+01-4.57784625e+01j -2.23648943e+01+2.20173168e+00j]]\n",
      "\n",
      " [[-1.07802403e+01+2.02751191e+00j -5.04584156e+01-4.66086972e+01j]\n",
      "  [ 1.97823520e+01-2.34608388e+01j -1.10541933e+02-6.82850850e+01j]\n",
      "  [ 6.61321094e+01+5.45585012e+01j  1.02696193e+02+1.29024275e+02j]\n",
      "  ...\n",
      "  [-1.13263732e+00+7.61456917e+00j  1.38088148e+01-1.57350407e+01j]\n",
      "  [ 7.21115217e+01+6.47736577e+01j -3.51536704e+01+1.36071013e+01j]\n",
      "  [-2.72264861e+01-4.93778015e+01j  1.06141844e+00+1.88204632e+01j]]\n",
      "\n",
      " [[ 6.13318418e-01-0.00000000e+00j  9.57091935e+01+0.00000000e+00j]\n",
      "  [-1.05439291e+01+0.00000000e+00j  2.50544407e+02-0.00000000e+00j]\n",
      "  [-8.69016691e+01+0.00000000e+00j -3.34132937e+01+0.00000000e+00j]\n",
      "  ...\n",
      "  [-1.78902133e+01+0.00000000e+00j  1.80915059e+01+0.00000000e+00j]\n",
      "  [-1.28632474e+02+0.00000000e+00j  6.88057139e+01-0.00000000e+00j]\n",
      "  [-5.67028233e+01+0.00000000e+00j  1.79563636e+01+0.00000000e+00j]]]\n",
      "[[ 1.11703396e-16  1.87307338e-16]\n",
      " [-1.00000000e+00  4.44084507e-16]\n",
      " [ 3.20244134e-16 -3.31354067e-16]\n",
      " ...\n",
      " [ 2.00000000e+00  1.10573330e-16]\n",
      " [-3.00000000e+00  1.00000000e+00]\n",
      " [ 1.00000000e+00  1.00000000e+00]]\n"
     ]
    }
   ],
   "source": [
    "import stft\n",
    "import scipy\n",
    "import numpy\n",
    "import scipy.io.wavfile as wav\n",
    "\n",
    "fs, audio = wav.read('test.wav')\n",
    "\n",
    "specgram = stft.spectrogram(audio, transform=[scipy.fftpack.fft, numpy.fft.fft])\n",
    "print(specgram)\n",
    "output = stft.ispectrogram(specgram, transform=[scipy.fftpack.ifft, numpy.fft.ifft])\n",
    "print(output)\n",
    "#wav.write('output.wav', fs, output)\n"
   ]
  },
  {
   "cell_type": "code",
   "execution_count": 12,
   "metadata": {},
   "outputs": [
    {
     "name": "stdout",
     "output_type": "stream",
     "text": [
      "[[[-6.94835935e+00+0.00000000e+00j -8.90731489e+00+0.00000000e+00j]\n",
      "  [-1.67319337e+01+0.00000000e+00j -1.60250155e+01+0.00000000e+00j]\n",
      "  [-2.45408278e+01+0.00000000e+00j -1.99902587e+01+0.00000000e+00j]\n",
      "  ...\n",
      "  [ 3.05760773e+05-0.00000000e+00j  2.35939857e+05+0.00000000e+00j]\n",
      "  [ 3.04180663e+04+0.00000000e+00j  1.55033658e+04-0.00000000e+00j]\n",
      "  [ 7.32498540e+00-0.00000000e+00j -5.83514195e+00+0.00000000e+00j]]\n",
      "\n",
      " [[ 1.88301939e+00-4.04365340e+00j  3.44707788e+00-6.10799432e+00j]\n",
      "  [ 7.92290668e+00+1.47388040e-01j  6.66781758e+00+9.14629574e-01j]\n",
      "  [-6.98987880e-01-2.38472470e+00j  3.35384427e+00-9.40000501e+00j]\n",
      "  ...\n",
      "  [-6.67258170e+05+3.48549001e+04j -4.73706398e+05-2.22702146e+05j]\n",
      "  [ 9.21992499e+04+4.58083421e+04j  7.41899647e+04+4.18075035e+04j]\n",
      "  [-2.00525317e+01-1.63939358e+01j  7.11630533e+00+9.51709825e+00j]]\n",
      "\n",
      " [[-5.76274506e-01+3.97661907e-01j  1.19637874e+00+3.06755114e+00j]\n",
      "  [-1.31664501e+00-1.25101047e+00j  1.42835849e-01+2.59922527e+00j]\n",
      "  [-8.01497848e+00-1.54670686e+01j  7.18348230e+00+4.09557918e+00j]\n",
      "  ...\n",
      "  [ 3.90086983e+04+2.97661683e+05j -3.88355318e+05+6.77355255e+05j]\n",
      "  [ 1.82706900e+05-4.15944674e+04j  1.51330629e+05-4.23071784e+04j]\n",
      "  [-3.80357668e+01+2.72490315e+01j  1.41603671e+01-6.52643889e+00j]]\n",
      "\n",
      " ...\n",
      "\n",
      " [[ 1.66064373e+01+1.17754669e+01j  3.58956448e+01+3.93124603e+01j]\n",
      "  [-4.33354374e+01-2.90369739e+01j -2.09181903e+01+3.68652137e+00j]\n",
      "  [-6.75754942e+01+6.59556732e+00j -1.75414350e+02+3.60336827e+01j]\n",
      "  ...\n",
      "  [ 7.81589822e+00+7.01369962e+00j -7.85159813e+00-1.97978599e+01j]\n",
      "  [ 4.00284921e+01-6.43535657e+01j -2.07170644e+01-4.12507544e+01j]\n",
      "  [ 2.87012649e+01-4.57784625e+01j -2.23648943e+01+2.20173168e+00j]]\n",
      "\n",
      " [[-1.07802403e+01+2.02751191e+00j -5.04584156e+01-4.66086972e+01j]\n",
      "  [ 1.97823520e+01-2.34608388e+01j -1.10541933e+02-6.82850850e+01j]\n",
      "  [ 6.61321094e+01+5.45585012e+01j  1.02696193e+02+1.29024275e+02j]\n",
      "  ...\n",
      "  [-1.13263732e+00+7.61456917e+00j  1.38088148e+01-1.57350407e+01j]\n",
      "  [ 7.21115217e+01+6.47736577e+01j -3.51536704e+01+1.36071013e+01j]\n",
      "  [-2.72264861e+01-4.93778015e+01j  1.06141844e+00+1.88204632e+01j]]\n",
      "\n",
      " [[ 6.13318418e-01-0.00000000e+00j  9.57091935e+01+0.00000000e+00j]\n",
      "  [-1.05439291e+01+0.00000000e+00j  2.50544407e+02-0.00000000e+00j]\n",
      "  [-8.69016691e+01+0.00000000e+00j -3.34132937e+01+0.00000000e+00j]\n",
      "  ...\n",
      "  [-1.78902133e+01+0.00000000e+00j  1.80915059e+01+0.00000000e+00j]\n",
      "  [-1.28632474e+02+0.00000000e+00j  6.88057139e+01-0.00000000e+00j]\n",
      "  [-5.67028233e+01+0.00000000e+00j  1.79563636e+01+0.00000000e+00j]]]\n"
     ]
    }
   ],
   "source": [
    "import stft\n",
    "import scipy\n",
    "import numpy\n",
    "import scipy.io.wavfile as wav\n",
    "\n",
    "fs, audio = wav.read('test.wav')\n",
    "\n",
    "specgram = stft.spectrogram(audio, transform=[scipy.fftpack.fft, numpy.fft.fft])\n",
    "print(specgram)"
   ]
  },
  {
   "cell_type": "code",
   "execution_count": 11,
   "metadata": {},
   "outputs": [
    {
     "name": "stdout",
     "output_type": "stream",
     "text": [
      "[[ 1.11703396e-16  1.87307338e-16]\n",
      " [-1.00000000e+00  4.44084507e-16]\n",
      " [ 3.20244134e-16 -3.31354067e-16]\n",
      " ...\n",
      " [ 2.00000000e+00  1.10573330e-16]\n",
      " [-3.00000000e+00  1.00000000e+00]\n",
      " [ 1.00000000e+00  1.00000000e+00]]\n"
     ]
    }
   ],
   "source": [
    "import scipy\n",
    "import numpy\n",
    "import scipy.io.wavfile as wav\n",
    "\n",
    "fs, audio = wav.read('test.wav')\n",
    "\n",
    "specgram = stft.spectrogram(audio, transform=[scipy.fftpack.fft, numpy.fft.fft])\n",
    "\n",
    "output = stft.ispectrogram(specgram, transform=[scipy.fftpack.ifft, numpy.fft.ifft])\n",
    "print(output)"
   ]
  },
  {
   "cell_type": "code",
   "execution_count": null,
   "metadata": {},
   "outputs": [],
   "source": []
  }
 ],
 "metadata": {
  "kernelspec": {
   "display_name": "Python 3",
   "language": "python",
   "name": "python3"
  },
  "language_info": {
   "codemirror_mode": {
    "name": "ipython",
    "version": 3
   },
   "file_extension": ".py",
   "mimetype": "text/x-python",
   "name": "python",
   "nbconvert_exporter": "python",
   "pygments_lexer": "ipython3",
   "version": "3.7.4"
  }
 },
 "nbformat": 4,
 "nbformat_minor": 4
}
